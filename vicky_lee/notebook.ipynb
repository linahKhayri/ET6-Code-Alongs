{
 "cells": [
  {
   "cell_type": "markdown",
   "metadata": {},
   "source": [
    "# 🤖 Mini Fine-Tune: LLaMA-Inspired Language Model\n",
    "\n",
    "In this notebook, we'll fine-tune a small open-source LLM on a custom dataset.\n",
    "No ML background needed — just follow along and explore the power of language models!\n"
   ]
  },
  {
   "cell_type": "code",
   "execution_count": null,
   "metadata": {},
   "outputs": [],
   "source": [
    "# 📦 Step 1: Install Required Packages\n",
    "!pip install -q transformers datasets accelerate peft trl torch scipy"
   ]
  },
  {
   "cell_type": "code",
   "execution_count": null,
   "metadata": {},
   "outputs": [],
   "source": [
    "# 📁 Step 2: Load Sample Dataset\n",
    "import json\n",
    "\n",
    "with open('dataset.json') as f:\n",
    "    data = json.load(f)\n",
    "\n",
    "for i in data:\n",
    "    print('Instruction:', i['instruction'])\n",
    "    print('Input:', i['input'])\n",
    "    print('Expected Output:', i['output'])\n",
    "    print('-'*50)"
   ]
  },
  {
   "cell_type": "code",
   "execution_count": null,
   "metadata": {},
   "outputs": [],
   "source": [
    "# 🤗 Step 3: Load a Pretrained Model (Tiny Version for Demo)\n",
    "from transformers import AutoTokenizer, AutoModelForCausalLM\n",
    "\n",
    "model_name = \"sshleifer/tiny-gpt2\"  # A small GPT2 for quick runs\n",
    "tokenizer = AutoTokenizer.from_pretrained(model_name)\n",
    "model = AutoModelForCausalLM.from_pretrained(model_name)"
   ]
  },
  {
   "cell_type": "code",
   "execution_count": null,
   "metadata": {},
   "outputs": [],
   "source": [
    "# 🛠️ Step 4: Preprocess Data\n",
    "from datasets import Dataset\n",
    "\n",
    "def format(example):\n",
    "    prompt = f\"Instruction: {example['instruction']}\\nInput: {example['input']}\\nOutput:\"\n",
    "    return {\"text\": prompt + example['output']}\n",
    "\n",
    "formatted_data = [format(ex) for ex in data]\n",
    "dataset = Dataset.from_list(formatted_data)\n",
    "dataset = dataset.train_test_split(test_size=0.3)\n",
    "dataset[\"train\"][0]"
   ]
  },
  {
   "cell_type": "code",
   "execution_count": null,
   "metadata": {},
   "outputs": [],
   "source": [
    "# 🎯 Step 5: Fine-tune with Trainer\n",
    "from transformers import Trainer, TrainingArguments, TextDataset, DataCollatorForLanguageModeling\n",
    "from transformers import GPT2Tokenizer, GPT2LMHeadModel\n",
    "\n",
    "training_args = TrainingArguments(\n",
    "    output_dir=\"./results\",\n",
    "    num_train_epochs=3,\n",
    "    per_device_train_batch_size=2,\n",
    "    per_device_eval_batch_size=2,\n",
    "    evaluation_strategy=\"epoch\",\n",
    "    logging_dir=\"./logs\",\n",
    "    logging_steps=10,\n",
    "    save_strategy=\"no\",\n",
    ")\n",
    "\n",
    "tokenized_dataset = dataset.map(lambda x: tokenizer(x[\"text\"], truncation=True, padding='max_length', max_length=128), batched=True)\n",
    "data_collator = DataCollatorForLanguageModeling(tokenizer=tokenizer, mlm=False)\n",
    "\n",
    "trainer = Trainer(\n",
    "    model=model,\n",
    "    args=training_args,\n",
    "    train_dataset=tokenized_dataset[\"train\"],\n",
    "    eval_dataset=tokenized_dataset[\"test\"],\n",
    "    data_collator=data_collator,\n",
    ")\n",
    "\n",
    "trainer.train()"
   ]
  },
  {
   "cell_type": "code",
   "execution_count": null,
   "metadata": {},
   "outputs": [],
   "source": [
    "# ✨ Step 6: Test Your Model\n",
    "prompt = \"Instruction: Translate the sentence to French.\\nInput: Good morning!\\nOutput:\"\n",
    "inputs = tokenizer(prompt, return_tensors=\"pt\")\n",
    "outputs = model.generate(**inputs, max_new_tokens=50)\n",
    "print(tokenizer.decode(outputs[0]))"
   ]
  }
 ],
 "metadata": {
  "kernelspec": {
   "display_name": "Python 3",
   "language": "python",
   "name": "python3"
  },
  "language_info": {
   "name": "python",
   "version": "3.10"
  }
 },
 "nbformat": 4,
 "nbformat_minor": 5
}
